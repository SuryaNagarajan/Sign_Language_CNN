{
 "cells": [
  {
   "cell_type": "code",
   "execution_count": 1,
   "metadata": {},
   "outputs": [],
   "source": [
    "import pyttsx3\n",
    "\n",
    "def convert(st,sr):\n",
    "    engine = pyttsx3.init() # object creation\n",
    "    \"\"\" RATE\"\"\"\n",
    "       # getting details of current speaking rate\n",
    "    #print (rate)                        #printing current voice rate\n",
    "    engine.setProperty('rate', sr)     # setting up new voice rate\n",
    "    rate = engine.getProperty('rate')\n",
    "    print (sr)\n",
    "    \"\"\"VOLUME\"\"\"\n",
    "    volume = engine.getProperty('volume')   #getting to know current volume level (min=0 and max=1)\n",
    "    print (volume)                          #printing current volume level\n",
    "    engine.setProperty('volume',1.0)    # setting up volume level  between 0 and 1\n",
    "    \"\"\"VOICE\"\"\"\n",
    "    voices = engine.getProperty('voices')       #getting details of current voice\n",
    "    #engine.setProperty('voice', voices[0].id)  #changing index, changes voices. o for male\n",
    "    engine.setProperty('voice', 0)   #changing index, changes voices. 1 for female\n",
    "    engine.say(st)\n",
    "    engine.say('My current speaking rate is ' + str(sr))\n",
    "    engine.runAndWait()\n",
    "    engine.stop()\n",
    "\n",
    "    \"\"\"Saving Voice to a file\"\"\"\n",
    "    # On linux make sure that 'espeak' and 'ffmpeg' are installed\n",
    "    engine.save_to_file(st, 'test.mp3')\n",
    "    engine.runAndWait()"
   ]
  },
  {
   "cell_type": "code",
   "execution_count": null,
   "metadata": {},
   "outputs": [],
   "source": []
  }
 ],
 "metadata": {
  "kernelspec": {
   "display_name": "Python 3",
   "language": "python",
   "name": "python3"
  },
  "language_info": {
   "codemirror_mode": {
    "name": "ipython",
    "version": 3
   },
   "file_extension": ".py",
   "mimetype": "text/x-python",
   "name": "python",
   "nbconvert_exporter": "python",
   "pygments_lexer": "ipython3",
   "version": "3.7.4"
  }
 },
 "nbformat": 4,
 "nbformat_minor": 2
}
