{
 "cells": [
  {
   "cell_type": "code",
   "execution_count": 2,
   "metadata": {},
   "outputs": [],
   "source": [
    "from keras.models import Sequential\n",
    "from keras.layers import Convolution2D\n",
    "from keras.layers import MaxPooling2D\n",
    "from keras.layers import Flatten\n",
    "from keras.layers import Dense, Dropout\n",
    "from keras import optimizers\n",
    "from PIL import Image"
   ]
  },
  {
   "cell_type": "code",
   "execution_count": 3,
   "metadata": {},
   "outputs": [],
   "source": [
    "classifier = Sequential()"
   ]
  },
  {
   "cell_type": "code",
   "execution_count": 4,
   "metadata": {},
   "outputs": [],
   "source": [
    "classifier.add(Convolution2D(32, (3,  3), input_shape = (64, 64, 3), activation = 'relu'))"
   ]
  },
  {
   "cell_type": "code",
   "execution_count": 5,
   "metadata": {},
   "outputs": [],
   "source": [
    "classifier.add(MaxPooling2D(pool_size =(2,2)))"
   ]
  },
  {
   "cell_type": "code",
   "execution_count": 6,
   "metadata": {},
   "outputs": [],
   "source": [
    "classifier.add(Convolution2D(32, 3,  3, activation = 'relu'))\n",
    "classifier.add(MaxPooling2D(pool_size =(2,2)))"
   ]
  },
  {
   "cell_type": "code",
   "execution_count": 7,
   "metadata": {},
   "outputs": [],
   "source": [
    "classifier.add(Convolution2D(64, 3,  3, activation = 'relu'))\n",
    "#classifier.add(MaxPooling2D(pool_size =(2,2)))"
   ]
  },
  {
   "cell_type": "code",
   "execution_count": 8,
   "metadata": {},
   "outputs": [],
   "source": [
    "classifier.add(Flatten())"
   ]
  },
  {
   "cell_type": "code",
   "execution_count": 9,
   "metadata": {},
   "outputs": [],
   "source": [
    "classifier.add(Dense(256, activation = 'relu'))\n",
    "classifier.add(Dropout(0.5))\n",
    "classifier.add(Dense(27, activation = 'softmax'))"
   ]
  },
  {
   "cell_type": "code",
   "execution_count": 77,
   "metadata": {},
   "outputs": [],
   "source": [
    "classifier.compile(\n",
    "              optimizer = optimizers.SGD(lr = 0.01),\n",
    "              loss = 'categorical_crossentropy',\n",
    "              metrics = ['accuracy'])"
   ]
  },
  {
   "cell_type": "code",
   "execution_count": 78,
   "metadata": {},
   "outputs": [],
   "source": [
    "from keras.preprocessing.image import ImageDataGenerator\n",
    "train_datagen = ImageDataGenerator(\n",
    "        rescale=1./255,\n",
    "        shear_range=0.2,\n",
    "        zoom_range=0.2,\n",
    "        horizontal_flip=True)"
   ]
  },
  {
   "cell_type": "code",
   "execution_count": 79,
   "metadata": {},
   "outputs": [],
   "source": [
    "test_datagen = ImageDataGenerator(rescale=1./255)"
   ]
  },
  {
   "cell_type": "code",
   "execution_count": 80,
   "metadata": {},
   "outputs": [
    {
     "name": "stdout",
     "output_type": "stream",
     "text": [
      "Found 46500 images belonging to 27 classes.\n"
     ]
    }
   ],
   "source": [
    "training_set = train_datagen.flow_from_directory(\n",
    "        'mydata/training_set',\n",
    "        target_size=(64, 64),\n",
    "        batch_size=32,\n",
    "        class_mode='categorical')"
   ]
  },
  {
   "cell_type": "code",
   "execution_count": 81,
   "metadata": {},
   "outputs": [
    {
     "name": "stdout",
     "output_type": "stream",
     "text": [
      "Found 6510 images belonging to 27 classes.\n"
     ]
    }
   ],
   "source": [
    "test_set = test_datagen.flow_from_directory(\n",
    "        'mydata/test_set',\n",
    "        target_size=(64, 64),\n",
    "        batch_size=32,\n",
    "        class_mode='categorical')"
   ]
  },
  {
   "cell_type": "code",
   "execution_count": 82,
   "metadata": {},
   "outputs": [
    {
     "name": "stdout",
     "output_type": "stream",
     "text": [
      "Epoch 1/25\n",
      "800/800 [==============================] - ETA: 0s - loss: 3.2703 - accuracy: 0.0549WARNING:tensorflow:Your input ran out of data; interrupting training. Make sure that your dataset or generator can generate at least `steps_per_epoch * epochs` batches (in this case, 6500 batches). You may need to use the repeat() function when building your dataset.\n",
      "800/800 [==============================] - 84s 105ms/step - loss: 3.2702 - accuracy: 0.0549 - val_loss: 2.7131 - val_accuracy: 0.2307\n",
      "Epoch 2/25\n",
      "800/800 [==============================] - 81s 102ms/step - loss: 2.7562 - accuracy: 0.1666\n",
      "Epoch 3/25\n",
      "800/800 [==============================] - 86s 107ms/step - loss: 2.1820 - accuracy: 0.3028\n",
      "Epoch 4/25\n",
      "800/800 [==============================] - 81s 101ms/step - loss: 1.6921 - accuracy: 0.4415\n",
      "Epoch 5/25\n",
      "800/800 [==============================] - 84s 106ms/step - loss: 1.4366 - accuracy: 0.5172\n",
      "Epoch 6/25\n",
      "800/800 [==============================] - 84s 105ms/step - loss: 1.3073 - accuracy: 0.5507\n",
      "Epoch 7/25\n",
      "800/800 [==============================] - 84s 104ms/step - loss: 1.1981 - accuracy: 0.5872\n",
      "Epoch 8/25\n",
      "800/800 [==============================] - 83s 104ms/step - loss: 1.0856 - accuracy: 0.6297\n",
      "Epoch 9/25\n",
      "800/800 [==============================] - 83s 104ms/step - loss: 1.0195 - accuracy: 0.6451\n",
      "Epoch 10/25\n",
      "800/800 [==============================] - 83s 104ms/step - loss: 0.9425 - accuracy: 0.6680\n",
      "Epoch 11/25\n",
      "800/800 [==============================] - 83s 104ms/step - loss: 0.9056 - accuracy: 0.6857\n",
      "Epoch 12/25\n",
      "800/800 [==============================] - 83s 104ms/step - loss: 0.8595 - accuracy: 0.6992\n",
      "Epoch 13/25\n",
      "800/800 [==============================] - 85s 106ms/step - loss: 0.8012 - accuracy: 0.7261\n",
      "Epoch 14/25\n",
      "800/800 [==============================] - 84s 105ms/step - loss: 0.7712 - accuracy: 0.7363\n",
      "Epoch 15/25\n",
      "800/800 [==============================] - 83s 104ms/step - loss: 0.7418 - accuracy: 0.7407\n",
      "Epoch 16/25\n",
      "800/800 [==============================] - 84s 104ms/step - loss: 0.7260 - accuracy: 0.7505\n",
      "Epoch 17/25\n",
      "800/800 [==============================] - 83s 104ms/step - loss: 0.6684 - accuracy: 0.7634\n",
      "Epoch 18/25\n",
      "800/800 [==============================] - 85s 107ms/step - loss: 0.6490 - accuracy: 0.7728\n",
      "Epoch 19/25\n",
      "800/800 [==============================] - 87s 109ms/step - loss: 0.6352 - accuracy: 0.7781\n",
      "Epoch 20/25\n",
      "800/800 [==============================] - 83s 104ms/step - loss: 0.6094 - accuracy: 0.7888\n",
      "Epoch 21/25\n",
      "800/800 [==============================] - 83s 104ms/step - loss: 0.5999 - accuracy: 0.7895\n",
      "Epoch 22/25\n",
      "800/800 [==============================] - 83s 104ms/step - loss: 0.5898 - accuracy: 0.7958\n",
      "Epoch 23/25\n",
      "800/800 [==============================] - 85s 106ms/step - loss: 0.5589 - accuracy: 0.8036\n",
      "Epoch 24/25\n",
      "800/800 [==============================] - 85s 106ms/step - loss: 0.5405 - accuracy: 0.8096\n",
      "Epoch 25/25\n",
      "800/800 [==============================] - 84s 105ms/step - loss: 0.5274 - accuracy: 0.8147\n"
     ]
    }
   ],
   "source": [
    "model = classifier.fit(\n",
    "        training_set,\n",
    "        steps_per_epoch=800,\n",
    "        epochs=25,\n",
    "        validation_data = test_set,\n",
    "        validation_steps = 6500\n",
    "      )"
   ]
  },
  {
   "cell_type": "code",
   "execution_count": 83,
   "metadata": {},
   "outputs": [],
   "source": [
    "import h5py\n",
    "classifier.save('Trained_model_space.h5')"
   ]
  },
  {
   "cell_type": "code",
   "execution_count": null,
   "metadata": {},
   "outputs": [],
   "source": []
  }
 ],
 "metadata": {
  "kernelspec": {
   "display_name": "Python 3",
   "language": "python",
   "name": "python3"
  },
  "language_info": {
   "codemirror_mode": {
    "name": "ipython",
    "version": 3
   },
   "file_extension": ".py",
   "mimetype": "text/x-python",
   "name": "python",
   "nbconvert_exporter": "python",
   "pygments_lexer": "ipython3",
   "version": "3.7.4"
  }
 },
 "nbformat": 4,
 "nbformat_minor": 2
}
