{
 "cells": [
  {
   "cell_type": "code",
   "execution_count": 1,
   "metadata": {},
   "outputs": [],
   "source": [
    "import numpy as np\n",
    "import cv2\n",
    "\n",
    "cv2.namedWindow('image', cv2.WINDOW_NORMAL)\n",
    "\n",
    "#Load the Image\n",
    "imgo = cv2.imread('img.jpg')\n",
    "height, width = imgo.shape[:2]\n",
    "\n",
    "#Create a mask holder\n",
    "mask = np.zeros(imgo.shape[:2],np.uint8)\n",
    "\n",
    "#Grab Cut the object\n",
    "bgdModel = np.zeros((1,65),np.float64)\n",
    "fgdModel = np.zeros((1,65),np.float64)\n",
    "\n",
    "#Hard Coding the Rect The object must lie within this rect.\n",
    "rect = (10,10,width-30,height-30)\n",
    "cv2.grabCut(imgo,mask,rect,bgdModel,fgdModel,5,cv2.GC_INIT_WITH_RECT)\n",
    "mask = np.where((mask==2)|(mask==0),0,1).astype('uint8')\n",
    "img1 = imgo*mask[:,:,np.newaxis]\n",
    "\n",
    "#Get the background\n",
    "background = imgo - img1\n",
    "\n",
    "#Change all pixels in the background that are not black to white\n",
    "background[np.where((background > [0,0,0]).all(axis = 2))] = [255,255,255]\n",
    "\n",
    "#Add the background and the image\n",
    "final = background + img1\n",
    "coloured = final.copy()\n",
    "coloured[mask == 255] = (0,0,0)\n",
    "\n",
    "#To be done - Smoothening the edges\n",
    "\n",
    "cv2.imshow('image', final )\n",
    "#cv2.imshow('img1',coloured)\n",
    "\n",
    "k = cv2.waitKey(0)\n",
    "\n",
    "if k==27:\n",
    "    cv2.destroyAllWindows()\n",
    "\n"
   ]
  },
  {
   "cell_type": "code",
   "execution_count": 2,
   "metadata": {},
   "outputs": [],
   "source": []
  },
  {
   "cell_type": "code",
   "execution_count": 3,
   "metadata": {},
   "outputs": [],
   "source": []
  },
  {
   "cell_type": "code",
   "execution_count": 4,
   "metadata": {},
   "outputs": [],
   "source": []
  },
  {
   "cell_type": "code",
   "execution_count": 6,
   "metadata": {},
   "outputs": [],
   "source": []
  },
  {
   "cell_type": "code",
   "execution_count": null,
   "metadata": {},
   "outputs": [],
   "source": []
  }
 ],
 "metadata": {
  "kernelspec": {
   "display_name": "Python 3",
   "language": "python",
   "name": "python3"
  },
  "language_info": {
   "codemirror_mode": {
    "name": "ipython",
    "version": 3
   },
   "file_extension": ".py",
   "mimetype": "text/x-python",
   "name": "python",
   "nbconvert_exporter": "python",
   "pygments_lexer": "ipython3",
   "version": "3.7.4"
  }
 },
 "nbformat": 4,
 "nbformat_minor": 2
}
