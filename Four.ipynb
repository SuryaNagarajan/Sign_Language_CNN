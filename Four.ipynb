{
 "cells": [
  {
   "cell_type": "code",
   "execution_count": 1,
   "metadata": {},
   "outputs": [],
   "source": [
    "import cv2\n",
    "import numpy as np\n",
    "import os"
   ]
  },
  {
   "cell_type": "code",
   "execution_count": 2,
   "metadata": {},
   "outputs": [],
   "source": [
    "def nothing(x):\n",
    "    pass"
   ]
  },
  {
   "cell_type": "code",
   "execution_count": 3,
   "metadata": {},
   "outputs": [],
   "source": [
    "image_x, image_y = 64,64"
   ]
  },
  {
   "cell_type": "code",
   "execution_count": 4,
   "metadata": {},
   "outputs": [],
   "source": [
    "from keras.models import load_model\n",
    "classifier = load_model('Trained_model_space.h5')"
   ]
  },
  {
   "cell_type": "code",
   "execution_count": 5,
   "metadata": {},
   "outputs": [],
   "source": [
    "def predictor(st):\n",
    "       import numpy as np\n",
    "       from keras.preprocessing import image\n",
    "       test_image = image.load_img(st, target_size=(64, 64))\n",
    "       test_image = image.img_to_array(test_image)\n",
    "       test_image = np.expand_dims(test_image, axis = 0)\n",
    "       result = classifier.predict(test_image)\n",
    "       \n",
    "       if result[0][0] == 1:\n",
    "              return 'A'\n",
    "       elif result[0][1] == 1:\n",
    "              return 'B'\n",
    "       elif result[0][2] == 1:\n",
    "              return 'C'\n",
    "       elif result[0][3] == 1:\n",
    "              return 'D'\n",
    "       elif result[0][4] == 1:\n",
    "              return 'E'\n",
    "       elif result[0][5] == 1:\n",
    "              return 'F'\n",
    "       elif result[0][6] == 1:\n",
    "              return 'G'\n",
    "       elif result[0][7] == 1:\n",
    "              return 'H'\n",
    "       elif result[0][8] == 1:\n",
    "              return 'I'\n",
    "       elif result[0][9] == 1:\n",
    "              return 'J'\n",
    "       elif result[0][10] == 1:\n",
    "              return 'K'\n",
    "       elif result[0][11] == 1:\n",
    "              return 'L'\n",
    "       elif result[0][12] == 1:\n",
    "              return 'M'\n",
    "       elif result[0][13] == 1:\n",
    "              return 'N'\n",
    "       elif result[0][14] == 1:\n",
    "              return 'O'\n",
    "       elif result[0][15] == 1:\n",
    "              return 'P'\n",
    "       elif result[0][16] == 1:\n",
    "              return 'Q'\n",
    "       elif result[0][17] == 1:\n",
    "              return 'R'\n",
    "       elif result[0][18] == 1:\n",
    "              return 'S'\n",
    "       elif result[0][19] == 1:\n",
    "              return 'T'\n",
    "       elif result[0][20] == 1:\n",
    "              return 'U'\n",
    "       elif result[0][21] == 1:\n",
    "              return 'V'\n",
    "       elif result[0][22] == 1:\n",
    "              return 'W'\n",
    "       elif result[0][23] == 1:\n",
    "              return 'X'\n",
    "       elif result[0][24] == 1:\n",
    "              return 'Y'\n",
    "       elif result[0][25] == 1:\n",
    "              return 'Z'\n",
    "       elif result[0][26] == 1:\n",
    "              return ' '\n",
    "        "
   ]
  },
  {
   "cell_type": "code",
   "execution_count": 17,
   "metadata": {},
   "outputs": [
    {
     "name": "stdout",
     "output_type": "stream",
     "text": [
      "HELLO WORLD\n"
     ]
    }
   ],
   "source": [
    "cam = cv2.VideoCapture(0)\n",
    "\n",
    "cv2.namedWindow(\"Trackbars\")\n",
    "\n",
    "cv2.createTrackbar(\"L - H\", \"Trackbars\", 0, 179, nothing)\n",
    "cv2.createTrackbar(\"L - S\", \"Trackbars\", 0, 255, nothing)\n",
    "cv2.createTrackbar(\"L - V\", \"Trackbars\", 0, 255, nothing)\n",
    "cv2.createTrackbar(\"U - H\", \"Trackbars\", 179, 179, nothing)\n",
    "cv2.createTrackbar(\"U - S\", \"Trackbars\", 255, 255, nothing)\n",
    "cv2.createTrackbar(\"U - V\", \"Trackbars\", 255, 255, nothing)\n",
    "\n",
    "cv2.namedWindow(\"test\")\n",
    "\n",
    "img_counter = 0\n",
    "\n",
    "img_text = ''\n",
    "q = 1;\n",
    "while q==1:\n",
    "    ret, frame = cam.read()\n",
    "    frame = cv2.flip(frame,1)\n",
    "    l_h = cv2.getTrackbarPos(\"L - H\", \"Trackbars\")\n",
    "    l_s = cv2.getTrackbarPos(\"L - S\", \"Trackbars\")\n",
    "    l_v = cv2.getTrackbarPos(\"L - V\", \"Trackbars\")\n",
    "    u_h = cv2.getTrackbarPos(\"U - H\", \"Trackbars\")\n",
    "    u_s = cv2.getTrackbarPos(\"U - S\", \"Trackbars\")\n",
    "    u_v = cv2.getTrackbarPos(\"U - V\", \"Trackbars\")\n",
    "\n",
    "\n",
    "    img = cv2.rectangle(frame, (425,100),(625,300), (0,255,0), thickness=2, lineType=8, shift=0)\n",
    "\n",
    "    lower_blue = np.array([l_h, l_s, l_v])\n",
    "    upper_blue = np.array([u_h, u_s, u_v])\n",
    "    imcrop = img[102:298, 427:623]\n",
    "    hsv = cv2.cvtColor(imcrop, cv2.COLOR_BGR2HSV)\n",
    "    mask = cv2.inRange(hsv, lower_blue, upper_blue)\n",
    "    \n",
    "    \n",
    "    \n",
    "    \n",
    "    cv2.putText(frame, img_text, (30, 400), cv2.FONT_HERSHEY_TRIPLEX, 1.5, (0, 255, 0))\n",
    "    cv2.imshow(\"test\", frame)\n",
    "    cv2.imshow(\"mask\", mask)\n",
    "    \n",
    "    \n",
    "    \n",
    "    \n",
    "        \n",
    "    img_name = \"1.png\"\n",
    "    save_img = cv2.resize(mask, (image_x, image_y))\n",
    "    cv2.imwrite(img_name, save_img)\n",
    "    #print(\"{} written!\".format(img_name))\n",
    "    #img_text = predictor()\n",
    "    img_text = ''\n",
    "    files = os.listdir(\"mydata/word\")\n",
    "    #files = sorted(files)\n",
    "    for i in files:\n",
    "        img_text+=predictor(os.path.join(\"mydata/word\",i))\n",
    "        \n",
    "        \n",
    "    #q = q-1\n",
    "    print(img_text)\n",
    "    break\n",
    "    if cv2.waitKey(1) == ord('c'):\n",
    "        break\n",
    "\n",
    "\n",
    "cam.release()\n",
    "cv2.destroyAllWindows()\n"
   ]
  },
  {
   "cell_type": "code",
   "execution_count": 18,
   "metadata": {},
   "outputs": [],
   "source": [
    "from ipynb.fs.full.Six import convert"
   ]
  },
  {
   "cell_type": "code",
   "execution_count": 19,
   "metadata": {},
   "outputs": [
    {
     "name": "stdout",
     "output_type": "stream",
     "text": [
      "120\n",
      "1.0\n"
     ]
    }
   ],
   "source": [
    "convert(img_text,120)"
   ]
  },
  {
   "cell_type": "code",
   "execution_count": 20,
   "metadata": {},
   "outputs": [
    {
     "name": "stdout",
     "output_type": "stream",
     "text": [
      "120\n",
      "1.0\n"
     ]
    }
   ],
   "source": [
    "convert('This is team one.',120)"
   ]
  },
  {
   "cell_type": "code",
   "execution_count": null,
   "metadata": {},
   "outputs": [],
   "source": []
  }
 ],
 "metadata": {
  "kernelspec": {
   "display_name": "Python 3",
   "language": "python",
   "name": "python3"
  },
  "language_info": {
   "codemirror_mode": {
    "name": "ipython",
    "version": 3
   },
   "file_extension": ".py",
   "mimetype": "text/x-python",
   "name": "python",
   "nbconvert_exporter": "python",
   "pygments_lexer": "ipython3",
   "version": "3.7.4"
  }
 },
 "nbformat": 4,
 "nbformat_minor": 2
}
