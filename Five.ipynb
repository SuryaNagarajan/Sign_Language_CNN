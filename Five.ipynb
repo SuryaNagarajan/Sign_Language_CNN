{
 "cells": [
  {
   "cell_type": "code",
   "execution_count": 12,
   "metadata": {},
   "outputs": [],
   "source": [
    "import cv2\n",
    "import imutils\n",
    "import numpy as np\n",
    "import time"
   ]
  },
  {
   "cell_type": "code",
   "execution_count": 13,
   "metadata": {},
   "outputs": [],
   "source": [
    "image_x, image_y = 64,64"
   ]
  },
  {
   "cell_type": "code",
   "execution_count": 14,
   "metadata": {},
   "outputs": [],
   "source": [
    "from keras.models import load_model\n",
    "classifier = load_model('Trained_model_space.h5')"
   ]
  },
  {
   "cell_type": "code",
   "execution_count": 15,
   "metadata": {},
   "outputs": [],
   "source": [
    "def predictor(img):\n",
    "       import numpy as np\n",
    "       from keras.preprocessing import image\n",
    "       test_image = image.load_img(img, target_size=(64, 64))\n",
    "       test_image = image.img_to_array(test_image)\n",
    "       test_image = np.expand_dims(test_image, axis = 0)\n",
    "       result = classifier.predict(test_image)\n",
    "       \n",
    "       if result[0][0] == 1:\n",
    "              return 'A'\n",
    "       elif result[0][1] == 1:\n",
    "              return 'B'\n",
    "       elif result[0][2] == 1:\n",
    "              return 'C'\n",
    "       elif result[0][3] == 1:\n",
    "              return 'D'\n",
    "       elif result[0][4] == 1:\n",
    "              return 'E'\n",
    "       elif result[0][5] == 1:\n",
    "              return 'F'\n",
    "       elif result[0][6] == 1:\n",
    "              return 'G'\n",
    "       elif result[0][7] == 1:\n",
    "              return 'H'\n",
    "       elif result[0][8] == 1:\n",
    "              return 'I'\n",
    "       elif result[0][9] == 1:\n",
    "              return 'J'\n",
    "       elif result[0][10] == 1:\n",
    "              return 'K'\n",
    "       elif result[0][11] == 1:\n",
    "              return 'L'\n",
    "       elif result[0][12] == 1:\n",
    "              return 'M'\n",
    "       elif result[0][13] == 1:\n",
    "              return 'N'\n",
    "       elif result[0][14] == 1:\n",
    "              return 'O'\n",
    "       elif result[0][15] == 1:\n",
    "              return 'P'\n",
    "       elif result[0][16] == 1:\n",
    "              return 'Q'\n",
    "       elif result[0][17] == 1:\n",
    "              return 'R'\n",
    "       elif result[0][18] == 1:\n",
    "              return 'S'\n",
    "       elif result[0][19] == 1:\n",
    "              return 'T'\n",
    "       elif result[0][20] == 1:\n",
    "              return 'U'\n",
    "       elif result[0][21] == 1:\n",
    "              return 'V'\n",
    "       elif result[0][22] == 1:\n",
    "              return 'W'\n",
    "       elif result[0][23] == 1:\n",
    "              return 'X'\n",
    "       elif result[0][24] == 1:\n",
    "              return 'Y'\n",
    "       elif result[0][25] == 1:\n",
    "              return 'Z'\n",
    "       elif result[0][26] == 1:\n",
    "              return ' '"
   ]
  },
  {
   "cell_type": "code",
   "execution_count": 16,
   "metadata": {},
   "outputs": [],
   "source": [
    "#global variables\n",
    "bg = None"
   ]
  },
  {
   "cell_type": "code",
   "execution_count": 17,
   "metadata": {},
   "outputs": [],
   "source": [
    "def segment(image, threshold=25):\n",
    "    global bg\n",
    "    \n",
    "    diff = cv2.absdiff(bg.astype(\"uint8\"), image)\n",
    "\n",
    "    thresholded = cv2.threshold(diff, threshold, 255, cv2.THRESH_BINARY)[1]\n",
    "\n",
    "    ( cnts, _) = cv2.findContours(thresholded.copy(), cv2.RETR_EXTERNAL, cv2.CHAIN_APPROX_SIMPLE)\n",
    "\n",
    "    if len(cnts) == 0:\n",
    "        return\n",
    "    else:\n",
    "        segmented = max(cnts, key=cv2.contourArea)\n",
    "        return (thresholded, segmented)"
   ]
  },
  {
   "cell_type": "code",
   "execution_count": 18,
   "metadata": {},
   "outputs": [],
   "source": [
    "def run_avg(image, aWeight):\n",
    "    global bg\n",
    "    \n",
    "    if bg is None:\n",
    "        bg = image.copy().astype(\"float\")\n",
    "        return\n",
    "\n",
    "    cv2.accumulateWeighted(image, bg, aWeight)"
   ]
  },
  {
   "cell_type": "code",
   "execution_count": 22,
   "metadata": {},
   "outputs": [
    {
     "name": "stdout",
     "output_type": "stream",
     "text": [
      "Helloworld\n"
     ]
    }
   ],
   "source": [
    "aWeight = 0.5\n",
    "\n",
    "camera = cv2.VideoCapture(0)\n",
    "\n",
    "top, right, bottom, left = 10, 350, 225, 590\n",
    "\n",
    "num_frames = 0\n",
    "word = \"\"\n",
    "word1 = \"\"\n",
    "\n",
    "while(True):\n",
    "    (grabbed, frame) = camera.read()\n",
    "\n",
    "    frame = imutils.resize(frame, width=700)\n",
    "\n",
    "    frame = cv2.flip(frame, 1)\n",
    "\n",
    "    clone = frame.copy()\n",
    "\n",
    "    (height, width) = frame.shape[:2]\n",
    "\n",
    "    roi = frame[top:bottom, right:left]\n",
    "    \n",
    "\n",
    "    gray = cv2.cvtColor(roi, cv2.COLOR_BGR2GRAY)\n",
    "    gray = cv2.GaussianBlur(gray, (7, 7), 0)\n",
    "\n",
    "    if num_frames < 30:\n",
    "        run_avg(gray, aWeight)\n",
    "    else:\n",
    "        hand = segment(gray)\n",
    "\n",
    "        if hand is not None:\n",
    "            (thresholded, segmented) = hand\n",
    "\n",
    "            cv2.drawContours(clone, [segmented + (right, top)], -1, (0, 0, 255))\n",
    "            cv2.imshow(\"Thesholded\", thresholded)\n",
    "            cv2.putText(clone, \"Your word is: \"+word, (30, 400), cv2.FONT_HERSHEY_SIMPLEX, 1, (0,0,255), 2)\n",
    "            outpath1 = \"Hanif_Save.jpg\"\n",
    "            cv2.imwrite(outpath1, thresholded)\n",
    "            word1 = predictor(outpath1)\n",
    "            cv2.putText(clone, word1, (70, 45), cv2.FONT_HERSHEY_SIMPLEX, 1, (0,0,255), 2)\n",
    "\n",
    "\n",
    "    cv2.rectangle(clone, (left, top), (right, bottom), (0,255,0), 2)\n",
    "\n",
    "    num_frames += 1\n",
    "\n",
    "    cv2.imshow(\"Video Feed\", clone)\n",
    "\n",
    "    \n",
    "    keypress = cv2.waitKey(1) & 0xFF\n",
    "    \n",
    "    if keypress == ord(\"b\"):\n",
    "        word=word[:-1]\n",
    "\n",
    "    if keypress == ord(\"c\"):\n",
    "        outpath = \"Hanif_Save_1.jpg\"\n",
    "        cv2.imwrite(outpath, thresholded)\n",
    "        word+=predictor(outpath)\n",
    "    if keypress == ord(\"x\"):\n",
    "        outpath = \"Hanif_Save_1.jpg\"\n",
    "        cv2.imwrite(outpath, thresholded)\n",
    "        t = predictor(outpath)\n",
    "        if t:\n",
    "            word+=(predictor(outpath).lower())\n",
    "        \n",
    "    if keypress == ord(\"z\"):\n",
    "        break\n",
    "\n",
    "\n",
    "print(word)\n",
    "camera.release()\n",
    "cv2.destroyAllWindows()"
   ]
  },
  {
   "cell_type": "code",
   "execution_count": 23,
   "metadata": {},
   "outputs": [],
   "source": [
    "from ipynb.fs.full.Six import convert"
   ]
  },
  {
   "cell_type": "code",
   "execution_count": 24,
   "metadata": {},
   "outputs": [
    {
     "name": "stdout",
     "output_type": "stream",
     "text": [
      "120\n",
      "1.0\n"
     ]
    }
   ],
   "source": [
    "convert(word,120)"
   ]
  },
  {
   "cell_type": "code",
   "execution_count": 13,
   "metadata": {},
   "outputs": [
    {
     "name": "stdout",
     "output_type": "stream",
     "text": [
      " \n"
     ]
    }
   ],
   "source": [
    "if ' ':\n",
    "    print(' '.lower())"
   ]
  },
  {
   "cell_type": "code",
   "execution_count": null,
   "metadata": {},
   "outputs": [],
   "source": []
  }
 ],
 "metadata": {
  "kernelspec": {
   "display_name": "Python 3",
   "language": "python",
   "name": "python3"
  },
  "language_info": {
   "codemirror_mode": {
    "name": "ipython",
    "version": 3
   },
   "file_extension": ".py",
   "mimetype": "text/x-python",
   "name": "python",
   "nbconvert_exporter": "python",
   "pygments_lexer": "ipython3",
   "version": "3.7.4"
  }
 },
 "nbformat": 4,
 "nbformat_minor": 2
}
